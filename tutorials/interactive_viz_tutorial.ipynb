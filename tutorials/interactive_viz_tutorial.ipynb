{
 "cells": [
  {
   "cell_type": "markdown",
   "metadata": {},
   "source": [
    "# Interactive visualisation tutorial\n",
    "\n",
    "In the [introductory_tutorial](introductory_tutorial.ipynb) we ran through building structural covariance network analyses using `scona`🍪, in the [global_network_viz_tutorial](global_network_viz_tutorial.ipynb) we looked at how to report measures relating to the whole network, and in the [anatomical_viz_tutorial](anatomical_viz_tutorial.ipynb) we made some static visualisions that you could use to report your findings in a published paper.\n",
    "\n",
    "In this tutorial we'll cover some interactive and 3D connectome visualisation commands.\n",
    "\n",
    "You'll be able to share these with your final publication for your readers to explore.\n",
    "\n",
    "Click on any of the links below to jump to that section\n",
    "* [Get set up](#Get-set-up) (make sure to run this section before jumping into any of the others!)\n",
    "* [Visualise nodes in 3D: `view_nodes_3d`](#Visualise-nodes-in-3D%3A-%3Ccode%3Eview_nodes_3d%3C%2Fcode%3E)\n",
    "* [Visualise connectome in 3D: `view_connectome_3d`](#Visualise-Connectome-in-3D%3A%3Ccode%3Eview_connectome_3d%3C%2Fcode%3E)"
   ]
  },
  {
   "cell_type": "markdown",
   "metadata": {},
   "source": [
    "## Get set up\n",
    "\n",
    "### Import the modules you need"
   ]
  },
  {
   "cell_type": "code",
   "execution_count": null,
   "metadata": {
    "collapsed": true
   },
   "outputs": [],
   "source": [
    "import scona as scn\n",
    "import scona.datasets as datasets\n",
    "import numpy as np\n",
    "import networkx as nx\n",
    "import pandas as pd\n",
    "from IPython.display import display\n",
    "\n",
    "import matplotlib.pyplot as plt\n",
    "import seaborn as sns\n",
    "%matplotlib inline\n",
    "\n",
    "%load_ext autoreload\n",
    "%autoreload 2"
   ]
  },
  {
   "cell_type": "markdown",
   "metadata": {},
   "source": [
    "### Read in the data, build a network and calculate the network metrics\n",
    "\n",
    "If you're not sure about this step, please check out the [introductory_tutorial](introductory_tutorial.ipynb) notebook for more explanation."
   ]
  },
  {
   "cell_type": "code",
   "execution_count": null,
   "metadata": {
    "collapsed": true
   },
   "outputs": [],
   "source": [
    "# Read in sample data from the NSPN WhitakerVertes PNAS 2016 paper.\n",
    "df, names, covars, centroids = datasets.NSPN_WhitakerVertes_PNAS2016.import_data()\n",
    "\n",
    "# calculate residuals of the matrix df for the columns of names\n",
    "df_res = scn.create_residuals_df(df, names, covars)\n",
    "\n",
    "# create a correlation matrix over the columns of df_res\n",
    "M = scn.create_corrmat(df_res, method='pearson')\n",
    "\n",
    "# Initialise a weighted graph G from the correlation matrix M\n",
    "G = scn.BrainNetwork(network=M, parcellation=names, centroids=centroids)\n",
    "\n",
    "# Threshold G at cost 10 to create a binary graph with 10% as many edges as the complete graph G.\n",
    "G10 = G.threshold(10)\n",
    "\n",
    "# Calculate global and nodal measures for graph G10\n",
    "G10.calculate_global_measures()\n",
    "G10.calculate_nodal_measures()"
   ]
  },
  {
   "cell_type": "markdown",
   "metadata": {},
   "source": [
    "## Visualise nodes in 3D: `view_nodes_3d`\n",
    "\n",
    "One of the first things you'll want to do is view the nodes of your network on the brain.\n",
    "\n",
    "The commands here are lightly wrapping around the excellent [nilearn.plotting.view_markers](http://nilearn.github.io/modules/generated/nilearn.plotting.view_markers.html#nilearn.plotting.view_markers) tool."
   ]
  },
  {
   "cell_type": "markdown",
   "metadata": {},
   "source": [
    "### Look at the data\n",
    "\n",
    "We'll use the thresholded graph `G10` because it has some of the properties we'd like to visualise.\n",
    "\n",
    "The nodes have specific attributes, or you can see all of the information saved for each node using the `report_nodal_measures` command."
   ]
  },
  {
   "cell_type": "code",
   "execution_count": null,
   "metadata": {
    "collapsed": true
   },
   "outputs": [],
   "source": [
    "# Look at one specific node's attributes\n",
    "G.nodes[12]"
   ]
  },
  {
   "cell_type": "code",
   "execution_count": null,
   "metadata": {
    "collapsed": true
   },
   "outputs": [],
   "source": [
    "# show the nodal attributes of first 5 brain regions\n",
    "G10.report_nodal_measures().loc[:5]"
   ]
  },
  {
   "cell_type": "markdown",
   "metadata": {},
   "source": [
    "One of the most important columns is the `centroids` column which has the x, y and z coordinates of the nodal location in MNI space.\n",
    "We'll use those values to put the nodes in the right place on the brain."
   ]
  },
  {
   "cell_type": "markdown",
   "metadata": {},
   "source": [
    "### Import the code you need: `view_nodes_3d`"
   ]
  },
  {
   "cell_type": "code",
   "execution_count": null,
   "metadata": {
    "collapsed": true
   },
   "outputs": [],
   "source": [
    "# import the function to plot network measures\n",
    "from scona.visualisations import view_nodes_3d"
   ]
  },
  {
   "cell_type": "markdown",
   "metadata": {},
   "source": [
    "### Plot nodes\n",
    "\n",
    "As it says in the name: lets view the nodes on a 3d plot.\n",
    "\n",
    "All you need is a graph (we're using `G10` in this case) which has the `centroids` attribute."
   ]
  },
  {
   "cell_type": "markdown",
   "metadata": {},
   "source": [
    "#### Default settings\n",
    "\n",
    "By default, all nodes will be displayed in **black** color with the same size value: **5.0**."
   ]
  },
  {
   "cell_type": "code",
   "execution_count": null,
   "metadata": {
    "collapsed": true
   },
   "outputs": [],
   "source": [
    "# Create a view\n",
    "ConnectomeView = view_nodes_3d(G10)\n",
    "# Show the view interactively\n",
    "ConnectomeView"
   ]
  },
  {
   "cell_type": "markdown",
   "metadata": {},
   "source": [
    "#### Spin the brain around\n",
    "\n",
    "Have a play around!\n",
    "\n",
    "You should be able to view the brain from different angles by moving the mouse to rotate the brain.\n",
    "Alternatively you can select one of six prescribed orientations by using the drop down lis in the bottom left corner\n",
    "\n",
    "#### Zoom in and out\n",
    "\n",
    "You can zoom in on the brain either by selecting the 🔍 icon, or using two fingers on the trackpad, and then dragging the mouse.\n",
    "\n",
    "#### Move the brain from left to right\n",
    "\n",
    "You can pan the image from side to side by clicking on the 4 direction arrow icon and then moving the mouse.\n",
    "\n",
    "#### Reset the view\n",
    "\n",
    "Sometimes you can make the brain look particularly odd (very small, very large, or upside down, for example!)\n",
    "The home button (🏠) will rest the view to the default settings, which is a nice way to get back on track.\n",
    "\n",
    "#### Adjust the transparency of the brain\n",
    "\n",
    "You can make the brain on which the nodes are plotted more or less transparent by moving the slider along the horizonal bar in the bottom left corner.\n",
    "\n",
    "Note that this will not change the colour of the nodes, just the brain in the background.\n",
    "\n",
    "#### Save a picture\n",
    "\n",
    "You can save the brain (in the orientation you've selected) as a `png` file by clicking the camera icon (📷) in the top right corner.\n",
    "(That menu might not always be visible.\n",
    "It should appear when you hover your mouse in that corner though!)\n",
    "\n",
    "The image will be saved wherever your browser saves images by default, so if in doubt check your `Downloads` folder.\n",
    "\n",
    "#### Edit the image with plotly\n",
    "\n",
    "It's a little confusing that the save icon (💾) doesn't save an image (that's the 📷 icon as described above) but rather opens the plot in [Plotly:Chart Studio](https://plot.ly/create/).\n",
    "\n",
    "Plotly is a little hard to get started with, but once you're up and running it can give you online control over setting up the image.\n",
    "\n",
    "You can modify and manually plot the nodes location and colors using the data in the top right of the page.\n",
    "And you can pan and set different rotations when you're visualising the brain.\n",
    "\n",
    "***Explore and find what you need!*** Have fun 😺"
   ]
  },
  {
   "cell_type": "markdown",
   "metadata": {},
   "source": [
    "### Plot nodes with different sizes and change the default color"
   ]
  },
  {
   "cell_type": "markdown",
   "metadata": {},
   "source": [
    "You might want to adjust the size of the nodes according to their **degree**: making the most strongly connected nodes larger than those with fewer connections.\n",
    "\n",
    "The degree is saved in the nodal measures pandas data frame and we can pass that column directly to the `view_nodes_3d` function under the `node_size` keyword arguement.\n",
    "\n",
    "Note that we've changed the `node_color` to \"coral\" because black dots are very boring 😉"
   ]
  },
  {
   "cell_type": "code",
   "execution_count": null,
   "metadata": {
    "collapsed": true
   },
   "outputs": [],
   "source": [
    "# Get the nodal measures as a pandas dataframe\n",
    "nodal_df = G10.report_nodal_measures()\n",
    "\n",
    "# Create a view\n",
    "ConnectomeView = view_nodes_3d(G10, node_color=\"coral\", node_size=nodal_df['degree'])\n",
    "\n",
    "# Show the view interactively\n",
    "ConnectomeView"
   ]
  },
  {
   "cell_type": "markdown",
   "metadata": {},
   "source": [
    "WOAH! That's not what we were expecting!\n",
    "\n",
    "The circles that mark the nodes are all overlapping.\n",
    "This is _not_ a particularly useful figure.\n",
    "\n",
    "The reason is that the range of degree values is too large.\n",
    "The smallest dots look great, but the largest dots are taking up too much space.\n",
    "\n",
    "You can play around with different scalings by dividing the values by a constant and/or adding a constant.\n",
    "You may remember this activity from high school mathematics.\n",
    "If you don't, here's a [lovely refresher video](https://www.khanacademy.org/math/ap-statistics/random-variables-ap/transforming-random-variables/v/impact-of-scaling-and-shifting-random-variables) from Khan Academy 📐👩‍🔬\n",
    "\n",
    "For example, for this example dataset, adding **30.0** to every degree value and dividing by **7.0** looks pretty good."
   ]
  },
  {
   "cell_type": "code",
   "execution_count": null,
   "metadata": {
    "collapsed": true
   },
   "outputs": [],
   "source": [
    "# Create a view\n",
    "ConnectomeView = view_nodes_3d(G10, node_color=\"coral\", node_size=(nodal_df['degree']+30)/7.0)\n",
    "# Show the view interactively\n",
    "ConnectomeView"
   ]
  },
  {
   "cell_type": "markdown",
   "metadata": {},
   "source": [
    "If you want to show a different measure, **participation coefficient** for example, you'll need to customise the values again.\n",
    "\n",
    "Play around with the two different options in the cell below by uncommenting one of the lines with information for `node_size` to contrast the different sizes and their effect on the brain image.\n",
    "\n",
    "1. No adjustment (nodes will look very small)\n",
    "2. Add a constant (10, nodes will all look very similar in size)\n",
    "3. Multiple the values by a constant (20, the nodes in frontal cortex with low participation coefficient look much smaller than those with higher participation coefficient)\n",
    "\n",
    "None of the node size options are _wrong_ but they do tell quite different stories!\n",
    "Remember to be responsible in the choices you make when you communicate your findings.\n",
    "With great power ... 💪"
   ]
  },
  {
   "cell_type": "code",
   "execution_count": null,
   "metadata": {
    "collapsed": true
   },
   "outputs": [],
   "source": [
    "# Create a view\n",
    "ConnectomeView = view_nodes_3d(G10,\n",
    "                               node_color=\"cornflowerblue\",\n",
    "                               #node_size=(nodal_df['participation_coefficient'])\n",
    "                               #node_size=(nodal_df['participation_coefficient']+10.0)\n",
    "                               node_size=(nodal_df['participation_coefficient']*20.0)\n",
    "                              )\n",
    "# Show the view interactively\n",
    "ConnectomeView"
   ]
  },
  {
   "cell_type": "markdown",
   "metadata": {},
   "source": [
    "### Show a subset of the nodes\n",
    "\n",
    "If you set the node size to **0** then it will not be shown on the brain.\n",
    "\n",
    "A good use case for this is if you want to show the location of just one specific node.\n",
    "Let's say: `lh_rostralmiddlefrontal_part1`."
   ]
  },
  {
   "cell_type": "code",
   "execution_count": null,
   "metadata": {
    "collapsed": true
   },
   "outputs": [],
   "source": [
    "# Create a list that has 0s everwhere except for that one node\n",
    "sizes = [ 15 \n",
    "          if node_name == 'lh_rostralmiddlefrontal_part1' \n",
    "          else 0 \n",
    "          for node_name in nodal_df['name'].values ]\n",
    "\n",
    "print (sizes)"
   ]
  },
  {
   "cell_type": "code",
   "execution_count": null,
   "metadata": {
    "collapsed": true
   },
   "outputs": [],
   "source": [
    "# Create a view\n",
    "ConnectomeView = view_nodes_3d(G10, node_color=\"Red\", node_size=sizes)\n",
    "\n",
    "# Show the view interactively\n",
    "ConnectomeView"
   ]
  },
  {
   "cell_type": "markdown",
   "metadata": {},
   "source": [
    "#### Plot the rich club only\n",
    "\n",
    "Another use case is to plot just the rich club nodes.\n",
    "\n",
    "To do this you need to define a cut off point from the rich club curve (described in more detail in the [global_network_viz](global_network_viz.ipynb) tutorial).\n",
    "In the published paper that this example data is from we designated the most connected 15% of nodes to be in the rich club.\n"
   ]
  },
  {
   "cell_type": "code",
   "execution_count": null,
   "metadata": {
    "collapsed": true
   },
   "outputs": [],
   "source": [
    "# Define the degree threshold that separates the rich club from\n",
    "# the other nodes\n",
    "rich_thresh = np.percentile(nodal_df['degree'], 85)\n",
    "print ('Rich club threshold: {}'.format(rich_thresh))\n",
    "\n",
    "# Create a list that replaces the degree value with 0 for nodes that are\n",
    "# not in the rich club\n",
    "sizes = [ degree \n",
    "          if degree > rich_thresh \n",
    "          else 0 \n",
    "          for degree in nodal_df['degree'].values ]\n",
    "\n",
    "# Print the sizes to show the 0s and values\n",
    "print (sizes)\n",
    "\n",
    "# Adjust these values as above (otherwise you'll get some great big circles again!)\n",
    "sizes = [ (size + 30.0)/7.0 \n",
    "          if size > 1.0\n",
    "          else 0\n",
    "          for size in sizes ]\n",
    "\n",
    "# Print just the first few entries\n",
    "print (sizes[:5])"
   ]
  },
  {
   "cell_type": "code",
   "execution_count": null,
   "metadata": {
    "collapsed": true
   },
   "outputs": [],
   "source": [
    "# Create a view\n",
    "ConnectomeView = view_nodes_3d(G10, node_color=\"teal\", node_size=sizes)\n",
    "\n",
    "# Show the view interactively\n",
    "ConnectomeView"
   ]
  },
  {
   "cell_type": "markdown",
   "metadata": {},
   "source": [
    "### Plot nodes in different colors\n",
    "\n",
    "You might not want all your nodes in the same colour.\n",
    "\n",
    "For example you might want to put each hemisphere in a different colour.\n",
    "\n",
    "MNI coordinates are set up so that the `x` coordinate of a node determines whether a node belongs to the left or right hemisphere.\n",
    "\n",
    "Negative values of `x` mean that node is in left hemisphere, and positive values are all located in the right hemisphere."
   ]
  },
  {
   "cell_type": "code",
   "execution_count": null,
   "metadata": {
    "collapsed": true
   },
   "outputs": [],
   "source": [
    "# Set 2 colors for nodes in the left and right hemispheres\n",
    "color_dict = {'left' : \"#FFD700\",\n",
    "              'right' : \"#4169E1\"}\n",
    "\n",
    "# Create a list of colors for each node\n",
    "node_colors = [ color_dict['left'] if x < 0 else color_dict['right'] for x in nodal_df['x'] ]\n",
    "\n",
    "# Print every 10th node (to save us from a huge print out!)\n",
    "print (node_colors[::10])"
   ]
  },
  {
   "cell_type": "markdown",
   "metadata": {},
   "source": [
    "Do you see that in our case the nodes are ordered so that all the ones in the left hemisphere come first and then those in the right hemisphere?\n",
    "\n",
    "That's a coincidence of the way this data was stored.\n",
    "It doesn't have to be that way at all.\n",
    "The important information is the `x` coordinate in the nodal values data frame (`nodal_df`)."
   ]
  },
  {
   "cell_type": "code",
   "execution_count": null,
   "metadata": {
    "collapsed": true
   },
   "outputs": [],
   "source": [
    "# Create a view\n",
    "ConnectomeView = view_nodes_3d(G10, node_color=node_colors)\n",
    "\n",
    "# Show the view interactively\n",
    "ConnectomeView"
   ]
  },
  {
   "cell_type": "markdown",
   "metadata": {},
   "source": [
    "Fun right? [Go Bears!](https://150.berkeley.edu/story/cals-blue-gold-and-bear) 🐻"
   ]
  },
  {
   "cell_type": "markdown",
   "metadata": {},
   "source": [
    "### Plot nodal measures in different colours using a colourmap\n",
    "\n",
    "We can grab the nodal values from the `nodal_df` dataframe, and use a colourmap instead of specifying individual colours for each value.\n",
    "\n",
    "This example uses a keyword argument we haven't seen yet: **measure**.\n",
    "Measure looks for columns in the nodal values data frame and uses the information it finds in there to set the **colour**.\n",
    "\n",
    "Note that you can't use this syntax (yet?) to change the node size because it is very difficult to automatically set the correct scaling factors (as you saw above!)\n",
    "\n",
    "#### Show modules in different colours using a qualitative colourmap\n",
    "\n",
    "We want the modules to be as different from each other as possible, so in the example below we've chosen the `tab10` colourmap from this [awesome list of options](https://matplotlib.org/examples/color/colormaps_reference.html)!"
   ]
  },
  {
   "cell_type": "code",
   "execution_count": null,
   "metadata": {
    "collapsed": true
   },
   "outputs": [],
   "source": [
    "# Create a view\n",
    "ConnectomeView = view_nodes_3d(G10, measure='module', cmap_name='tab10')\n",
    "\n",
    "# Show the view interactively\n",
    "ConnectomeView"
   ]
  },
  {
   "cell_type": "markdown",
   "metadata": {},
   "source": [
    "#### Visualise continuous data with a range of colours\n",
    "\n",
    "Set the **continuous** parameter to `True` in order to plot nodes according to the continuous data of nodal measures (like \"closeness\", \"betweenness\" etc).\n",
    "\n",
    "In the example below we've shown how `closeness` varies across the brain."
   ]
  },
  {
   "cell_type": "code",
   "execution_count": null,
   "metadata": {
    "collapsed": true
   },
   "outputs": [],
   "source": [
    "# Create a view\n",
    "ConnectomeView = view_nodes_3d(G10, \n",
    "                               measure=\"closeness\", \n",
    "                               cmap_name=\"autumn\",\n",
    "                               continuous=True)\n",
    "\n",
    "# Show the view interactively\n",
    "ConnectomeView"
   ]
  },
  {
   "cell_type": "markdown",
   "metadata": {},
   "source": [
    "These values all look kinda super similar, and it's probably driven by some nodal values that are particularly high or particularly low.\n",
    "\n",
    "If you want to adjust the min and max values of the colorbar you can do that with the `vmin` and `vmax` parameters.\n",
    "\n",
    "This usually lets you see a little more variation in the remaining 80% of the data, but be careful that you don't lie about the data as you adjust these values!"
   ]
  },
  {
   "cell_type": "code",
   "execution_count": null,
   "metadata": {
    "collapsed": true
   },
   "outputs": [],
   "source": [
    "# Set vmin and vmax to be the 10th and 90th percentiles of the data range\n",
    "vmin = np.percentile(nodal_df['closeness'], 10)\n",
    "vmax = np.percentile(nodal_df['closeness'], 90)"
   ]
  },
  {
   "cell_type": "code",
   "execution_count": null,
   "metadata": {
    "collapsed": true
   },
   "outputs": [],
   "source": [
    "# Create a view\n",
    "ConnectomeView = view_nodes_3d(G10, \n",
    "                               measure=\"closeness\", \n",
    "                               cmap_name=\"autumn\",\n",
    "                               continuous=True, \n",
    "                               vmin=vmin,\n",
    "                               vmax=vmax)\n",
    "\n",
    "# Show the view interactively\n",
    "ConnectomeView"
   ]
  },
  {
   "cell_type": "markdown",
   "metadata": {},
   "source": [
    "## A note on warnings\n",
    "\n",
    "You may see the following warning appear in red when you were creating some of the 3D visualisations above.\n",
    "    \n",
    "```\n",
    "UserWarning: It seems you have created more than 10 nilearn views.\n",
    "As each view uses dozens of megabytes of RAM, you might want to delete some of them.\n",
    "warnings.warn('It seems you have created more than 10')\n",
    "```\n",
    "\n",
    "This is telling you that you're using lots of your browsers memory by opening up so many of these `ConnectomeView`s.\n",
    "\n",
    "You can reduce the memory by clicking the **\"Clear all outputs\"** option under the **\"Edit\"** button in Jupyter Lab.\n",
    "(See [the Jupyter Lab documentation](https://jupyterlab.readthedocs.io/en/stable/user/interface.html) for more information about the interface.)\n",
    "\n",
    "We recommend clearing the outputs every now and again to keep everything clean and tidy 🗑️\n",
    "\n",
    "In a future version of `nilearn` we'll be able to turn off this warning through their interface, but for now we're just going to turn it off manually."
   ]
  },
  {
   "cell_type": "code",
   "execution_count": null,
   "metadata": {
    "collapsed": true
   },
   "outputs": [],
   "source": [
    "import warnings\n",
    "warnings.filterwarnings(\"ignore\", category=UserWarning)"
   ]
  },
  {
   "cell_type": "markdown",
   "metadata": {},
   "source": [
    "## Visualise Connectome in 3D: `view_connectome_3d`\n",
    "\n",
    "Wow, we've done loads of visualisations with the nodes, but what about the **edges** of the graph!?\n",
    "\n",
    "With the `scona.view_nodes_3d()` tool we were mainly focused to show only nodes and especially node visualisation according to their nodal measures.\n",
    "Whereas `view_connectome_3d` tool is essentially used to show the connections between nodes.\n",
    "\n",
    "This function builds off the lovely [nilearn.plotting.view_connectome](http://nilearn.github.io/modules/generated/nilearn.plotting.view_connectome.html#nilearn.plotting.view_connectome) tool.\n"
   ]
  },
  {
   "cell_type": "markdown",
   "metadata": {},
   "source": [
    "### Look at the data"
   ]
  },
  {
   "cell_type": "code",
   "execution_count": null,
   "metadata": {
    "collapsed": true
   },
   "outputs": [],
   "source": [
    "# Print the number of edges\n",
    "print ('Number of edges in original graph: {}'.format(G.number_of_edges()))\n",
    "print ('Number of edges in thresholded (10%) graph: {}'.format(G10.number_of_edges()))"
   ]
  },
  {
   "cell_type": "code",
   "execution_count": null,
   "metadata": {
    "collapsed": true
   },
   "outputs": [],
   "source": [
    "# Print the weight of a couple of example edges\n",
    "print ('Edge between {} and {}'.format(G.node[144]['name'],G.node[300]['name']))\n",
    "print ('  Weight in original graph: {:2.3f}'.format(G.edges[(144, 300)]['weight']))\n",
    "print ('  Weight in thresholded (10%) graph: {:2.3f}'.format(G10.edges[(144, 300)]['weight']))\n",
    "\n",
    "print ('Edge between {} and {}'.format(G.node[256]['name'],G.node[260]['name']))\n",
    "print ('  Weight in original graph: {:2.3f}'.format(G.edges[(256, 260)]['weight']))\n",
    "print ('  Weight in thresholded (10%) graph: {:2.3f}'.format(G10.edges[(256, 260)]['weight']))"
   ]
  },
  {
   "cell_type": "markdown",
   "metadata": {},
   "source": [
    "### Use original graph rather than the thresholded graph\n",
    "\n",
    "As you can see from looking at the data, all the edges in thresholded network are exactly 1.0.\n",
    "\n",
    "We create a thresholded network and then binarize it (setting weights to 1 or 0) so that we can calculate the global and nodal measures for the graph.\n",
    "\n",
    "However, if we plotted **all** those connections (even \"only\" the 10% we kept for `G10`) the network would look like a messy spagetti plot!\n",
    "And as the weights are all exactly the same we have no way to select, for example, the top 2% of edges (which generally makes a good looking network).\n",
    "\n",
    "Therefore, for the `view_connectome_3d` function its important to pass the **original Graph** (`G`) rather than the thresholded graph (`G10`).\n",
    "\n",
    "There is a useful inbuilt argument `edge_threshold` that makes it easier to adjust which edges to show."
   ]
  },
  {
   "cell_type": "markdown",
   "metadata": {},
   "source": [
    "### Import the code you need: `view_connectome_3d`"
   ]
  },
  {
   "cell_type": "code",
   "execution_count": null,
   "metadata": {
    "collapsed": true
   },
   "outputs": [],
   "source": [
    "from scona.visualisations import view_connectome_3d"
   ]
  },
  {
   "cell_type": "markdown",
   "metadata": {},
   "source": [
    "### View Connectome\n",
    "\n",
    "The view connectome function lets you view the edges - the connections - of the network.\n",
    "\n",
    "You need an unthresholded graph (we're using `G`) which has the `centroids` attribute."
   ]
  },
  {
   "cell_type": "markdown",
   "metadata": {},
   "source": [
    "#### Default settings\n",
    "\n",
    "By default, all nodes have **3.0** size and the top 2% of edges are displayed.\n",
    "\n",
    "The color of each edge is chosen based on the `weight` value of an edge, which corresponds to the strangth of the correlation between the two regions across your cohort.\n",
    "\n",
    "The default colormap for visualising edges is `Spectral_r`, and by default we show a **non-symmetric colormap** which goes from 0 to the maximum value in the correlation matrix."
   ]
  },
  {
   "cell_type": "code",
   "execution_count": null,
   "metadata": {
    "collapsed": true
   },
   "outputs": [],
   "source": [
    "# Create a view\n",
    "ConnectomeView = view_connectome_3d(G)\n",
    "\n",
    "# Show the view interactively\n",
    "ConnectomeView"
   ]
  },
  {
   "cell_type": "markdown",
   "metadata": {},
   "source": [
    "### Alter the number of edges you show\n",
    "\n",
    "You can change the number of edges you show with three different options.\n",
    "\n",
    "Quoting from the [nilearn documentation](https://nilearn.github.io/modules/generated/nilearn.plotting.view_connectome.html#nilearn.plotting.view_connectome):\n",
    "\n",
    "> `edge_threshold` : str, number or `None`, optional (default=`None`)  \n",
    ">  * If `None`, no thresholding.\n",
    ">  * If it is a number only connections of amplitude greater than threshold will be shown.  \n",
    ">  * If it is a string it must finish with a percent sign,\n",
    ">  * e.g. `\"25.3%\"`, and only connections of amplitude above the\n",
    ">    given percentile will be shown.\n",
    "\n",
    "#### Set an absolute threshold value \n",
    "\n",
    "Show all edges with a correlation greater than 0.5."
   ]
  },
  {
   "cell_type": "code",
   "execution_count": null,
   "metadata": {
    "collapsed": true
   },
   "outputs": [],
   "source": [
    "# Create a view\n",
    "ConnectomeView = view_connectome_3d(G, edge_threshold=0.5)\n",
    "\n",
    "# Show the view interactively\n",
    "ConnectomeView"
   ]
  },
  {
   "cell_type": "markdown",
   "metadata": {},
   "source": [
    "#### Choose a percentile as the threshold\n",
    "\n",
    "The default value plots the top 2% of edges by setting the default `edge_threshold` value to \"98%\".\n",
    "\n",
    "Note that this is a **string** that ends with the `%` character.\n",
    "\n",
    "We can adjust it to show more of these edges, for example to show the top 5% of edges.\n",
    "\n",
    "(Heads up, even 5% is too many, the plot doesn't look very good 😆)."
   ]
  },
  {
   "cell_type": "code",
   "execution_count": null,
   "metadata": {
    "collapsed": true
   },
   "outputs": [],
   "source": [
    "# Create a view\n",
    "ConnectomeView = view_connectome_3d(G, edge_threshold=\"95%\")\n",
    "\n",
    "# Show the view interactively\n",
    "ConnectomeView"
   ]
  },
  {
   "cell_type": "markdown",
   "metadata": {},
   "source": [
    "### Choose a different colormap\n",
    "\n",
    "Don't like the default `Spectral_r` colormap?\n",
    "You can change it!\n",
    "Any of the [matplotlib colormaps](https://matplotlib.org/examples/color/colormaps_reference.html) work (although qualitative ones might not make much sense unless you change the weights to some categorical values.\n",
    "\n",
    "How about a lovely purple edges from the `PRGn_r` edge colormap? "
   ]
  },
  {
   "cell_type": "code",
   "execution_count": null,
   "metadata": {
    "collapsed": true
   },
   "outputs": [],
   "source": [
    "# Create a view\n",
    "ConnectomeView = view_connectome_3d(G, edge_cmap='PRGn_r')\n",
    "\n",
    "# Show the view interactively\n",
    "ConnectomeView"
   ]
  },
  {
   "cell_type": "markdown",
   "metadata": {},
   "source": [
    "### Change the range of the colorbar\n",
    "\n",
    "By default the colorbar goes from `0` to the maximum value (`vmax`) in your correlation matrix: the strongest weight in the network.\n",
    "\n",
    "At the moment `nilearn` doesn't give us access to adjust this to a specific minimum value (eg your threshold value) although we're confident that functionality will be added soon.\n",
    "\n",
    "***Side note: THANK YOU Nilearn for the amazing tools! We love you!*** 💖💖💖\n",
    "\n",
    "We do have the ability to run the colorbar from `-vmax` to `vmax`.\n",
    "If you want to do that (maybe to match a different figure with a symmetric colormap) you can set `symmetric_cmap` to `True`."
   ]
  },
  {
   "cell_type": "code",
   "execution_count": null,
   "metadata": {
    "collapsed": true
   },
   "outputs": [],
   "source": [
    "# Create a view\n",
    "ConnectomeView = view_connectome_3d(G, edge_cmap='PRGn_r', symmetric_cmap=True)\n",
    "\n",
    "# Show the view interactively\n",
    "ConnectomeView"
   ]
  },
  {
   "cell_type": "markdown",
   "metadata": {},
   "source": [
    "### Change the width of the lines\n",
    "\n",
    "If you **do** want to plot lots of edges, it makes sense to make the lines a little thinner so they are easier to see.\n",
    "\n",
    "You can do this by setting the `linewidth` to a smaller value than the default which is **6**.\n",
    "\n",
    "Let's try plotting the top 5% of edges again, with a linewidth of 0.5.\n",
    "And a green colormap for fun."
   ]
  },
  {
   "cell_type": "code",
   "execution_count": null,
   "metadata": {
    "collapsed": true
   },
   "outputs": [],
   "source": [
    "# Create a view\n",
    "ConnectomeView = view_connectome_3d(G,\n",
    "                                    edge_threshold=\"95%\",\n",
    "                                    edge_cmap=\"Greens\",\n",
    "                                    linewidth=0.5)\n",
    "\n",
    "# Show the view interactively\n",
    "ConnectomeView"
   ]
  },
  {
   "cell_type": "markdown",
   "metadata": {},
   "source": [
    "Meh, still a few too many edges to really interpret, but at least you can see the individual lines now!"
   ]
  },
  {
   "cell_type": "markdown",
   "metadata": {},
   "source": [
    "### Change the size of the nodes\n",
    "\n",
    "We played around with changing the nodes a lot in the first half of this tutorial using the `view_nodes_3d` function.\n",
    "\n",
    "Unfortunately we aren't able to link up many of those options to the `view_connectome_3d` function...yet.\n",
    "(This might need some more nilearn functionality.)\n",
    "\n",
    "But, we can change the **size** of the nodes (from the default value of **6**).\n",
    "They'll always be black.\n",
    "\n",
    "If we double the size (to **12**) and add a winter colormap the brain doesn't really convey more information, but it looks pretty rad!"
   ]
  },
  {
   "cell_type": "code",
   "execution_count": null,
   "metadata": {
    "collapsed": true
   },
   "outputs": [],
   "source": [
    "# Create a view\n",
    "ConnectomeView = view_connectome_3d(G,\n",
    "                                    edge_cmap=\"winter\",\n",
    "                                    node_size=12)\n",
    "\n",
    "# Show the view interactively\n",
    "ConnectomeView"
   ]
  },
  {
   "cell_type": "markdown",
   "metadata": {},
   "source": [
    "### *Note*: transfer interactive brain visualisation into your local machine:\n",
    "\n",
    "Even if you have a command-line interface and/or perform brain network analysis on the remote machine/cluster, you are still able to get produced interactive visualisations **into your local machine** and view those plots.  \n",
    "\n",
    "Save the output of any function described in this tutorial as a ConnectomeView data type.\n",
    "\n",
    "ConnectomeView data type can be **saved as an html page** or rendered (transparently) by the Jupyter notebook. Useful methods are :\n",
    "\n",
    "- ‘resize’ to resize the plot displayed in a Jupyter notebook  \n",
    "- ‘save_as_html’ to save the plot to a file  \n",
    "- ‘open_in_browser’ to save the plot and open it in a web browser.\n",
    "\n",
    "For example, you can do the following:\n",
    "\n",
    "```\n",
    "# save the output of the visualisation function into the variable ConnectomeView\n",
    "ConnectomeView = view_connectome_3d(G)\n",
    "\n",
    "# save the visualisation in the current directory as html file\n",
    "ConnectomeView.save_as_html(file_name=\"my-lovely-viz.html\")\n",
    "```\n",
    "\n",
    "Now you are able to move the .html file from remote machine/cluster to your local machine.  \n",
    "Then open the html file you moved in a browser!"
   ]
  },
  {
   "cell_type": "markdown",
   "metadata": {},
   "source": [
    "## Thank you\n",
    "\n",
    "We hope you really enjoyed playing around with these interactive brains!"
   ]
  }
 ],
 "metadata": {
  "kernelspec": {
   "display_name": "Python 3",
   "language": "python",
   "name": "python3"
  },
  "language_info": {
   "codemirror_mode": {
    "name": "ipython",
    "version": 3
   },
   "file_extension": ".py",
   "mimetype": "text/x-python",
   "name": "python",
   "nbconvert_exporter": "python",
   "pygments_lexer": "ipython3",
   "version": "3.6.8"
  }
 },
 "nbformat": 4,
 "nbformat_minor": 2
}
